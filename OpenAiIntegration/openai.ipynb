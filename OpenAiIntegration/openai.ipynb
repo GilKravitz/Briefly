{
 "cells": [
  {
   "cell_type": "code",
   "execution_count": null,
   "metadata": {},
   "outputs": [],
   "source": [
    "articles = [\n",
    "    '''\n",
    "    פוליטי:\n",
    "    בכיר בליכוד הציע ליש עתיד: הצטרפו לממשלה לשנה תמורת תיקים, כולל של עוצמה יהודית.,\n",
    "בליכוד כבר נערכים לפרישת גנץ ואיזנקוט: בכיר בליכוד הציע ליש עתיד להצטרף לממשלה • ההצעה כוללת כמה תיקים בכירים, בהם גם המשרד לביטחון לאומי • עם זאת, הובהר שבן גביר צפוי להישאר בממשלה • גם ליברמן קיבל הצעה, בליכוד הכחישו: \"זה חסר שחר\" • פרסום ראשון\n",
    "בפגישה בין בכיר בליכוד לבכיר ביש עתיד הועברה הצעה להקמת ממשלה משותפת לשנה - כך אנו מפרסמים הערב (רביעי) לראשונה. הפגישה התקיימה לפני כשבועיים: לא נמסר בה מה יקרה בתום התקופה אבל ליש עתיד הוצע להיכנס לממשלה תמורת תיקים בכירים. בליכוד הכחישו: \"חסר שחר\".\n",
    "בפגישה הובהר שגם התיקים של עוצמה יהודית, כולל המשרד לביטחון לאומי, על השולחן: עם זאת הובהר שאיתמר בן גביר יישאר בממשלה.\n",
    "לפיד סירב להצעה: הוא טוען שנתניהו לא כשיר וכי אין לו אמון במילה שיוצאת לו מהפה. באחרונה הציעו לליברמן חברות בקבינט המלחמה תמורת תפקיד בכיר והישארות בממשלה: ליברמן מוכן להצטרף לקבינט המלחמה אך רק לתקופת המלחמה.\n",
    "משמעות ההצעות ברורה: בליכוד כבר נערכים לפרישת גנץ ואיזנקוט, ומתחילים לחפש נוסחאות להאריך את חיי הממשלה. גם גנץ התייחס לכך במרומז היום ואמר: \"אין לנו מנדט לפצל את העם ובמיוחד בשעה הזו. יש לנו חובה מוסרית והיסטורית – להישאר ביחד, ולנצח\". עם זאת, גנץ תקף את \"הפער האדיר בין התקציב שמדינת ישראל צריכה, לבין התקציב שעבר בממשלה\".\n",
    "עוד אמר גנץ: \"הלחימה נמשכת, ומטרות המלחמה נשארו בתוקף. הן לא השתנו, ולא נכון לשנות אותן. המטרה הראשונה היא השבת החטופים ויש לה קדימות בציר הזמן. המאמצים האלו לא פוסקים, כולל יוזמות ישראליות אקטיביות כל העת, מול גורמים רבים. המטרה העליונה וארוכת הטווח, היא שינוי המציאות בדרום. לא זזנו ולא נזוז משתי המטרות. ייקח כמה זמן שייקח\".\n",
    "מהליכוד נמסר: \"הפרסומים על הצעות שונות ומשונות ללפיד ולליברמן הם שקריים וחסרי שחר לחלוטין, בניסיון לפורר את ממשלת האחדות בזמן מלחמה\".\n",
    "בכיר בעוצמה יהודית הגיב: \"הצעת בכיר הליכוד ליש עתיד להצטרף על חשבון עוצמה יהודית לא מפתיעה. בשבועות האחרונים הליכוד נותן לבני גנץ להוביל את מדיניות הקבינט הקטן, וכנראה שבליכוד מחפשים גיבוי מיש עתיד. באמת הגיע הזמן שאותו בכיר בליכוד יחליט אם הוא רוצה את המדיניות של יאיר לפיד או של איתמר בן גביר\".\n",
    "בתוך כך, מפלגת יש עתיד הניחה הערב הצעת אי אמון בממשלה בנושא תקציב המדינה. \"הממשלה הזו לא יכולה להמשיך להתקיים. היא כישלון שעולה בחיי אדם ובעתיד המדינה\", נמסר. \"בשעה שחברי הקבינט עסוקים במריבות ובפוליטיקה במקום בניהול המלחמה, אישרה הממשלה תקציב חסר בושה. תקציב המעדיף משרדים מיותרים וכספים קואליציוניים על חשבון סיוע למפונים, למילואימניקים ולחיזוק תחושת הביטחון\".\n",
    "''',\n",
    "    '''\n",
    "    פוליטי:\n",
    "ליברמן אישר שקיבל הצעה מנתניהו: \"הציבו תנאי שלא אפרוש אחרי המלחמה. הם התבלבלו\n",
    "יו\"ר ישראל ביתנו אישר שבסביבת רה\"מ הציעו לו להצטרף לממשלה ולקבינט, כפי שנחשף ב-ynet, והבהיר בריאיון ל-ynet Live: \"אין לי כוונה להיות בקואליציית נתניהו\". הוא לא חסך בביקורת על התנהלות הממשלה: \"חברי הקבינט לא מופיעים ביחד, שר הביטחון נוטש דיון והמופע של הפופקורן - זה בלתי נתפס\"\n",
    "יו\"ר ישראל ביתנו אביגדור ליברמן התייחס לחשיפת ynet אתמול (יום רביעי), לפיה בסביבת ראש הממשלה בנימין נתניהו הציעו לו להצטרף לממשלה ולקבינט המלחמה, ובריאיון ל-ynet Live אישר: \"הייתה הצעה מנתניהו, אך בתנאי שאתחייב להישאר בקואליציה גם לאחר המלחמה. אמרתי להם 'התבלבלתם'\".\n",
    "לדבריו, \"אין לי שום כוונה להיות חבר בקואליציה של נתניהו. היו לפחות חמישה שליחים בכירים מהליכוד שבאו ברשות או בסמכות והעבירו את זה בחזרה. אמרתי לכולם: 'עצם העובדה שאתם שואלים אותי אם אני נשאר אחרי המלחמה ולא את דעתי על המצב בעזה ובצפון, מראה שאתם ממשיכים להתנהל על סמך שיקולים פוליטיים'\".\n",
    "על ניהול המלחמה אמר ליברמן: \"יצא לי לדבר עם המון אנשים בימים האחרונים, לא פגשתי אחד שמרוצה מהתוצאות שהשגנו עד כה. במקום לשדר אחדות ודבקות במשימה, יש פה פירוד, יריבות, מאבקי כוח. שלושה חברים בקבינט המלחמה שלא מסוגלים להופיע ביחד בתקשורת, שר ביטחון שנוטש את הדיון בקבינט בעיצומה של המלחמה, המופע הבזוי של הפופקורן עם כל הדיאלוגים ששמענו - זה דבר שהוא בלתי נתפס\". \n",
    "יו\"ר ישראל ביתנו התייחס לפארסת עסקת התרופות לחטופים ואמר: \"ראש הממשלה כבר ביום שישי הוציא הודעה, רצה לתפוס על זה את הקרדיט, ואז כמעט טרפד את העברת התרופות. כשהתגלו דברים הוא גלגל אחריות על צה\"ל\". עם זאת, הבהיר ליברמן, כי הוא מוכן להצטרף לקבינט המלחמה: \"ברגע שמזמינים אותך לשם בזמן מלחמה אז אין שיקול דעת, אתה חייב להצטרף. אבל אין לי שום כוונה לא להצטרף לממשלת נתניהו ולא לקואליציית נתניהו\".\n",
    "על המצב בצפון, והדיווח לפיו חיזבאללה דחה את הצעות השליח האמריקני עמוס הוכשטיין להרחקת פעילי ארגון הטרור מהגבול: \"נסראללה צוחק ולועג. ברור שאין שם שום פתרון דיפלומטי, ומי שבונה על כזה, שישכח מזה ויגיד את האמת לתושבים. לפי המצב כרגע, התושבים לא יוכלו לחזור עוד שנה וחצי או שנתיים. הם מורידים לנו פשוט כל שבוע עשרות בתים\". \n",
    "    הוא הוסיף: \"הקבינט המדיני-ביטחוני, לא המצומצם, חייב לקיים דיון בנושא. אפילו כשאני רואה שרכשו 50 מסוקים ו-100 מטוסים, אני חושב שזה חלק מאותה קונספציה ישנה. אפשר לרכוש רק 75 מטוסים, ובעלות של 25 כאלה אפשר לצייד מחדש את כל זרוע היבשה. זה משהו שפשוט לא מנוהל, הכול על פי שיקולים פוליטיים בלבד. חבל שגנץ ואיזנקוט נותנים לגיטימציה לרצון של נתניהו להמשיך במלחמה עד הבחירות הבאות\".\n",
    "''',\n",
    "    '''\n",
    "    פוליטי:\n",
    "על רקע המאמצים לאישור התקציב: המשרד של מאי גולן ייסגר, אך היא תישאר בתפקיד שרה.\n",
    "המשרד לקידום מעמד האישה שבראשו עמדה מאי גולן ייסגר, והיא תעבור לכהן כשרה לשוויון חברתי - במקומו של השר שיקלי • זאת, לאחר שהאחרון התפטר מתפקידו, וימשיך לכהן רק כשר התפוצות • ההצבעה על מיזוג המשרדים והעברת התפקיד - כבר בימים הקרובים\n",
    "השרה מאי גולן תעבור לכהן כשרה לשוויון חברתי במקומו של השר עמיחי שיקלי - שישאר בתפקידו כשר התפוצות. זאת, לאחר התפטרותו מהתפקיד בשבוע שעבר. כך, גולן תסיים את תפקידה כשרה לקידום מעמד האישה - והמשרד ייסגר לאחר שהוקם במיוחד עבורה בחודש מרץ. ההצבעה תתקיים בהמשך השבוע, אחרי שתסתיים העבודה על נוסח ההחלטה.\n",
    "למרות סגירת המשרד, מספר השרים יישאר זהה. השר שיקלי הסביר את התפטרותו מהתפקיד במכתב ששיגר לראש הממשלה: \"בצל שנת התקציב הקרובה וההבנה כי פנינו לאתגרים כלכליים אדירים, אני מאמין כי יש הכרח לערוך התאמות במבנה משרדי הממשלה. בשל כך, אני מוותר על תפקידי כשר לשוויון חברתי, ובנוסף מבקש לחזור לחדש את כהונתי כחבר כנסת במטרה לצמצם עליות נוספות\".\n",
    "ההחלטה הבוקר למזג את המשרדים הגיעה על רקע המאמצים לאישור השינויים בתקציב 2024. במהלך הלילה התקיימו דיונים בנושא, וכמה שרים לא הביעו את רצונם מהקיצוצים. השר בן גביר זעם על קיצוץ של מיליארד שקלים במשטרה והתעצמות בשיעור נמוך משדרש לאחר טבח 7 באוקטובר. הבוקר, הוא נפגש עם ראש הממשלה נתניהו בניסיון לפתור את הבעיה. \n",
    "רוצים להישאר מחוברים לחדשות של ישראל ולהיות מעודכנים בכל מה שקורה בארץ ובעולם? הירשמו לניוזלטר היומי של N12 ותקבלו את כל חדשות היום ישירות למייל שלכם.\n",
    "'''\n",
    "]\n",
    "\n",
    "titles = [\n",
    "    '''עשרות מתגייסות מסרבות לשרת כתצפיתניות: \"נאמר להן שמי שתסרב תגיע לכלא''',\n",
    "    '''דיווח: \"הסכמה עקרונית\" בין ישראל וחמאס על עסקת חטופים''',\n",
    "    '''היום ה-110 למלחמה | דיווח: הסכמה כללית על עקרונות העסקה, פערים בין דרישות חמאס לתנאים של ישראל''',\n",
    "    '''המחבלים הגיחו וירו RPG, המבנים קרסו ברגע: תחקיר האסון''',\n",
    "    '''צה\"ל על האסון: \"המחבלים הפתיעו את הכוחות\". התחקיר והשאלות''',\n",
    "    '''21 חללים באסון קריסת המבנים בעזה: הפנים, השמות והסיפורים''',\n",
    "]"
   ]
  },
  {
   "cell_type": "code",
   "execution_count": null,
   "metadata": {},
   "outputs": [],
   "source": [
    "import tiktoken\n",
    "\n",
    "def num_tokens_from_string(string: str, encoding_name: str) -> int:\n",
    "    \"\"\"Returns the number of tokens in a text string.\"\"\"\n",
    "    encoding = tiktoken.get_encoding(encoding_name)\n",
    "    num_tokens = len(encoding.encode(string))\n",
    "    return num_tokens"
   ]
  },
  {
   "cell_type": "code",
   "execution_count": null,
   "metadata": {},
   "outputs": [],
   "source": [
    "from openai import OpenAI\n",
    "from enum import Enum\n",
    "OPEN_AI_API_KEY = ''\n",
    "\n",
    "client = OpenAI(api_key=OPEN_AI_API_KEY)\n",
    "\n",
    "Embedding = Enum(\"Embedding\", [\"text-embedding-ada-002\", \"text-embedding-3-small\", \"text-embedding-3-large\"])\n",
    "\n",
    "def get_embeddings(text: str, model: Embedding):\n",
    "    res = client.embeddings.create(\n",
    "        model=model,\n",
    "        input=text,\n",
    "        encoding_format=\"float\"\n",
    "    )\n",
    "    return res.data[0].embedding"
   ]
  },
  {
   "cell_type": "code",
   "execution_count": null,
   "metadata": {},
   "outputs": [],
   "source": [
    "from sklearn.metrics.pairwise import cosine_similarity\n",
    "for model in Embedding:\n",
    "    embeddings = [get_embeddings(article, model.name) for article in articles]\n",
    "    similarities = cosine_similarity(embeddings)\n",
    "    print(f\"-----Model: {model.name}-----\")\n",
    "    print(similarities.round(3))\n",
    "    print(\"\")"
   ]
  },
  {
   "cell_type": "code",
   "execution_count": null,
   "metadata": {},
   "outputs": [],
   "source": [
    "from sklearn.cluster import AgglomerativeClustering\n",
    "\n",
    "def make_clusters(similarity_matrix, similarity_threshold):\n",
    "    \"\"\"\n",
    "    Groups articles into clusters based on a similarity matrix and a similarity threshold.\n",
    "\n",
    "    Args:\n",
    "        similarity_matrix (ndarray): Matrix representing the pairwise similarities between articles.\n",
    "        similarity_threshold (float): Threshold value for clustering.\n",
    "\n",
    "    Returns:\n",
    "        list: List of clusters, where each cluster is a list of articles.\n",
    "    \"\"\"\n",
    "    # Initialize the AgglomerativeClustering model with the specified threshold and linkage criterion.\n",
    "    # This setup allows the number of clusters to be determined based on the similarity threshold rather than being predefined.\n",
    "    clustering_model = AgglomerativeClustering(n_clusters=None, distance_threshold=similarity_threshold, linkage='average')\n",
    "    \n",
    "    # Apply the clustering model to the similarity matrix to identify clusters.\n",
    "    # The fit_predict method returns an array where each element corresponds to the cluster assignment of each article.\n",
    "    clusters = clustering_model.fit_predict(similarity_matrix)\n",
    "\n",
    "    # Initialize a list of empty lists to hold the articles for each cluster.\n",
    "    # The number of clusters is determined by the unique cluster identifiers in the 'clusters' array.\n",
    "    clustered_articles = [[] for _ in range(len(set(clusters)))]\n",
    "    \n",
    "    # Iterate over each article's group the articles accordingly.\n",
    "    for i in range(len(articles)):\n",
    "        # Append each article to its corresponding cluster based on the cluster assignment.\n",
    "        # The 'articles[i]' part assumes there's an 'articles' list available in the scope where each article's index corresponds to its position in the similarity matrix.\n",
    "        clustered_articles[clusters[i]].append(articles[i])\n",
    "\n",
    "    # Return the list of article clusters, where each cluster is represented as a list of articles.\n",
    "    return clustered_articles"
   ]
  },
  {
   "cell_type": "code",
   "execution_count": null,
   "metadata": {},
   "outputs": [],
   "source": [
    "clusters = make_clusters(similarities, 0.6)\n",
    "for i, cluster in enumerate(clusters):\n",
    "    print(f\"-----Cluster {i}-----\")\n",
    "    for article in cluster:\n",
    "        print(article)\n",
    "        print(\"\")\n",
    "    print(\"\")"
   ]
  },
  {
   "cell_type": "code",
   "execution_count": null,
   "metadata": {},
   "outputs": [],
   "source": [
    "def summarize_cluster(cluster):\n",
    "    # combine all articles in cluster into one string\n",
    "    # so that we can summarize them together using the OpenAI API\n",
    "    cluster_string = \" \".join(cluster)\n",
    "    # get the number of tokens in the cluster\n",
    "    num_tokens = num_tokens_from_string(cluster_string, \"cl100k_base\")\n",
    "    # summarize the cluster\n",
    "    summary = client.chat.completions.create(\n",
    "        # model=\"gpt-3.5-turbo\",\n",
    "        model=\"gpt-4\",\n",
    "        messages=[\n",
    "            {\"role\": \"system\", \"content\": \"Summarize the following articles in hebrew , make it simple and concise:\"},\n",
    "            {\"role\": \"user\", \"content\": f\"Article: {cluster_string}\"},\n",
    "        ],\n",
    "        max_tokens=int(num_tokens * 0.1),\n",
    "        # response_format={\"type\": \"json_object\"},\n",
    "    )\n",
    "    return summary"
   ]
  },
  {
   "cell_type": "code",
   "execution_count": null,
   "metadata": {},
   "outputs": [],
   "source": [
    "# for each cluster, combine the articles into one string and summarize it using the summarizer function\n",
    "summaries = [summarize_cluster(cluster) for cluster in clusters]\n",
    "for i, summary in enumerate(summaries):\n",
    "    print(f\"-----Cluster {i}-----\")\n",
    "    for line in summary.choices[0].message.content.split(\".\"):\n",
    "        print(line)\n",
    "        print(\"\")\n",
    "    print(\"\")"
   ]
  }
 ],
 "metadata": {
  "kernelspec": {
   "display_name": "py311",
   "language": "python",
   "name": "python3"
  },
  "language_info": {
   "codemirror_mode": {
    "name": "ipython",
    "version": 3
   },
   "file_extension": ".py",
   "mimetype": "text/x-python",
   "name": "python",
   "nbconvert_exporter": "python",
   "pygments_lexer": "ipython3",
   "version": "3.11.4"
  }
 },
 "nbformat": 4,
 "nbformat_minor": 2
}
